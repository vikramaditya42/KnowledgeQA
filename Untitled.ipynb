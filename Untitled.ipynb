{
 "cells": [
  {
   "cell_type": "code",
   "execution_count": 1,
   "id": "2deedaaf-74e3-4877-ab09-49ee241bfba8",
   "metadata": {},
   "outputs": [],
   "source": [
    "import os\n",
    "# from langchain_community.vectorstores import Chroma\n",
    "from langchain_community import embeddings\n",
    "from langchain_community.embeddings import OllamaEmbeddings\n",
    "# from langchain_community.chat_models import ChatOllama\n",
    "from langchain_core.output_parsers import StrOutputParser\n",
    "from langchain.prompts import PromptTemplate\n",
    "from langchain_core.runnables import RunnablePassthrough\n",
    "from langchain_community.document_loaders import PyPDFLoader\n",
    "from langchain_community.llms import Ollama\n",
    "\n"
   ]
  },
  {
   "cell_type": "code",
   "execution_count": 2,
   "id": "3a2ecd93",
   "metadata": {},
   "outputs": [],
   "source": [
    "MODEL = \"llama3.1:8b\""
   ]
  },
  {
   "cell_type": "code",
   "execution_count": 3,
   "id": "56ce0cd9",
   "metadata": {},
   "outputs": [],
   "source": []
  },
  {
   "cell_type": "code",
   "execution_count": 3,
   "id": "ed6da979",
   "metadata": {},
   "outputs": [
    {
     "name": "stderr",
     "output_type": "stream",
     "text": [
      "C:\\Users\\Vikramaditya Mishra\\AppData\\Local\\Temp\\ipykernel_25064\\2283610030.py:1: LangChainDeprecationWarning: The class `Ollama` was deprecated in LangChain 0.3.1 and will be removed in 1.0.0. An updated version of the class exists in the :class:`~langchain-ollama package and should be used instead. To use it run `pip install -U :class:`~langchain-ollama` and import as `from :class:`~langchain_ollama import OllamaLLM``.\n",
      "  model = Ollama(model = MODEL)\n"
     ]
    }
   ],
   "source": [
    "model = Ollama(model = MODEL)\n"
   ]
  },
  {
   "cell_type": "code",
   "execution_count": 4,
   "id": "edafb625",
   "metadata": {},
   "outputs": [
    {
     "data": {
      "text/plain": [
       "\"Here's one:\\n\\nWhat do you call a fake noodle?\\n\\nAn impasta!\\n\\nHope that made you smile! Do you want to hear another one?\""
      ]
     },
     "execution_count": 4,
     "metadata": {},
     "output_type": "execute_result"
    }
   ],
   "source": [
    "model.invoke(\"telll me a joke\")"
   ]
  },
  {
   "cell_type": "code",
   "execution_count": 5,
   "id": "bb3393f1",
   "metadata": {},
   "outputs": [
    {
     "data": {
      "text/plain": [
       "[Document(metadata={'source': 'pdfs/renewable.pdf', 'page': 0}, page_content='What is Renewable Energy?\\nRenewable energy uses energy sources\\nthat are continually replenished by\\nnature—the sun, the wind, water, the\\nEarth’s heat, and plants. Renewable\\nenergy technologies turn these fuels into\\nusable forms of energy—most often elec-\\ntricity, but also heat, chemicals, or\\nmechanical power.\\nWhy Use Renewable Energy?\\nToday we primarily use fossil fuels to heat\\nand power our homes and fuel our cars.\\nIt’s convenient to use coal, oil, and natural\\ngas for meeting our energy needs, but we\\nhave a limited supply of these fuels on the\\nEarth. We’re using them much more\\nrapidly than they are being created. Even-\\ntually, they will run out. And because of \\nsafety concerns and waste disposal prob-\\nlems, the United States will retire much of\\nits nuclear capacity by 2020. In the mean-\\ntime, the nation’s energy needs are\\nexpected to grow by 33 percent during the\\nnext 20 years. Renewable energy can help\\nfill the gap.\\nEven if we had an unlimited supply of fos-\\nsil fuels, using renewable energy is better\\nfor the environment. We often call renew-\\nable energy technologies “clean” or\\n“green” because they produce few if any\\npollutants. Burning fossil fuels, however,\\nsends greenhouse gases into the atmos-\\nphere, trapping the sun’s heat and con-\\ntributing to global warming. Climate\\nscientists generally agree that the Earth’s\\naverage temperature has risen in the past\\ncentury. If this trend continues, sea levels \\nwill rise, and scientists\\npredict that floods,\\nheat waves, droughts,\\nand other extreme\\nweather conditions\\ncould occur more often.\\nOther pollutants are\\nreleased into the air,\\nsoil, and water when\\nfossil fuels are burned.\\nThese pollutants take a\\ndramatic toll on the\\nenvironment—and on\\nhumans. Air pollution\\ncontributes to diseases\\nlike asthma. Acid rain\\nfrom sulfur dioxide\\nand nitrogen oxides\\nharms plants and fish.\\nNitrogen oxides also\\ncontribute to smog.\\nRenewable Energy: \\nAn Overview\\nCLEARINGHOUSE\\nENERGY\\nEFFICIENCY\\n                         AND\\nRENEWABLE\\nENERGY\\nT OF ENERGYDEPARTMEN\\nU\\nE\\nN\\nITEDSTAT S OFA\\nERICA\\nM\\nThis document was produced for the U.S. Department of Energy (DOE) by the National Renewable Energy Laboratory (NREL), a DOE national laboratory. The\\ndocument was produced by the Information and Outreach Program at NREL for the DOE Office of Energy Efficiency and Renewable Energy. The Energy Efficiency\\nand Renewable Energy Clearinghouse (EREC) is operated by NCI Information Systems, Inc., for NREL / DOE. The statements contained herein are based on\\ninformation known to EREC and NREL at the time of printing. No recommendation or endorsement of any product or service is implied if mentioned by EREC.\\nPrinted with a renewable-source ink on paper containing at least 50% wastepaper, including 20% postconsumer waste\\nDOE/GO-102001-1102\\nFS175\\nMarch 2001\\nA PV-system at the Pinnacles National Monument in California\\neliminates a $20,000 annual fuel bill for a diesel generator that pro-\\nduced each year 143 tons of carbon dioxide—a greenhouse gas.\\nNational Park Service, NREL/PIX04924'),\n",
       " Document(metadata={'source': 'pdfs/renewable.pdf', 'page': 1}, page_content='Renewable energy will also help us\\ndevelop energy independence and secu-\\nrity. The United States imports more than\\n50 percent of its oil, up from 34 percent in\\n1973. Replacing some of our petroleum\\nwith fuels made from plant matter, for\\nexample, could save money and\\nstrengthen our energy security.\\nRenewable energy is plentiful, and the\\ntechnologies are improving all the time.\\nThere are many ways to use renewable\\nenergy. Most of us already use renewable\\nenergy in our daily lives.\\nHydropower\\nHydropower is our most mature and\\nlargest source of renewable power, pro-\\nducing about 10 percent of the nation’s\\nelectricity. Existing hydropower capacity\\nis about 77,000 megawatts (MW). Hydro-\\npower plants convert the energy in flowing\\nwater into electricity. The most common\\nform of hydropower uses a dam on a river\\nto retain a large reservoir of water. Water is\\nreleased through turbines to generate\\npower. “Run of the river” systems, how-\\never, divert water from the river and\\ndirect it through a pipeline to a turbine.\\nHydropower plants produce no air emis-\\nsions but can affect water quality and\\nwildlife habitats. Therefore, hydropower\\nplants are now being designed and oper-\\nated to minimize impacts on the river.\\nSome of them are diverting a portion of\\nthe flow around their dams to mimic the\\nnatural flow of the river. But while this\\nimproves the\\nwildlife’s river\\nhabitat, it also\\nreduces the power\\nplant’s output. In\\naddition, fish lad-\\nders and other\\napproaches, such\\nas improved tur-\\nbines, are being\\nused to assist fish\\nwith migration\\nand lower the\\nnumber of fish\\nkilled. \\nBioenergy \\nBioenergy is the energy derived from bio-\\nmass (organic matter), such as plants. If\\nyou’ve ever burned wood in a fireplace or\\ncampfire, you’ve used bioenergy. But we\\ndon’t get all of our biomass resources\\ndirectly from trees or other plants. Many\\nindustries, such as those involved in con-\\nstruction or the processing of agricultural\\nproducts, can create large quantities of\\nunused or residual biomass, which can\\nserve as a bioenergy source. \\nBiopower \\nAfter hydropower, biomass is this coun-\\ntry’s second-leading resource of renewable\\nenergy, accounting for more than 7,000\\nMW of installed capacity. Some utilities\\nand power generating companies with\\ncoal power plants have found that replac-\\ning some coal with biomass is a low-cost\\noption to reduce undesirable emissions.\\nAs much as 15 percent of the coal may be\\nreplaced with biomass. Biomass has less\\nsulfur than coal. Therefore, less sulfur\\ndioxide, which contributes to acid rain, is\\nreleased into the air. Additionally, using\\nbiomass in these boilers reduces nitrous\\noxide emissions.\\nA process called gasification—the conver-\\nsion of biomass into gas, which is burned\\nin a gas turbine—is another way to gener-\\nate electricity. The decay of biomass in\\nlandfills also produces gas, mostly\\nmethane, which can be burned in a boiler\\nto produce steam for electricity generation\\nor industrial processes. Biomass can also\\nbe heated in the absence of oxygen to\\nchemically convert it into a type of fuel oil,\\ncalled pyrolysis oil. Pyrolysis oil can be\\nused for power generation and as a feed-\\nstock for fuels and chemical production.  \\nBiofuels\\nBiomass can be converted directly into liq-\\nuid fuels, called biofuels. Because biofuels\\nare easy to transport and possess high\\nenergy density, they are favored to fuel\\nvehicles and sometimes stationary power\\ngeneration. The most common biofuel is\\nethanol, an alcohol made from the fermen-\\ntation of biomass high in carbohydrates.\\nThe current largest source of ethanol is corn.\\nSome cities use ethanol as a gasoline addi-\\ntive to help meet air quality standards for\\n2\\nHydropower is our\\nmost mature and\\nlargest source of\\nrenewable power…\\nA small-scale hydropower system in King Cove,\\nAlaska, provides residents in this remote area with a\\nless expensive source of electricity.\\nDuane Hippe, NREL/PIX04410'),\n",
       " Document(metadata={'source': 'pdfs/renewable.pdf', 'page': 2}, page_content=\"3\\nIf you’ve ever burned\\nwood in a fireplace \\nor campfire, you've\\nused bioenergy.\\nozone. Flex-fuel\\nvehicles are also\\nnow on the market,\\nwhich can use a\\nmixture of gasoline\\nand ethanol, such\\nas E85—a mixture\\nof 85 percent\\nethanol and 15 per-\\ncent gasoline.\\nAnother biofuel is\\nbiodiesel, which\\ncan be made from\\nvegetable and ani-\\nmal fats. Biodiesel\\ncan be used to fuel\\na vehicle or as a\\nfuel additive to reduce emissions.\\nCorn ethanol and biodiesel provide about\\n0.4 percent of the total liquid fuels market.\\nTo increase our available supply of biofu-\\nels, researchers are testing crop residues—\\nsuch as cornstalks and leaves—wood\\nchips, food waste, grass, and even trash as\\npotential biofuel sources.\\nBiobased Products\\nBiomass—corn, wheat, soybeans, wood,\\nand residues—can also be used to produce\\nchemicals and materials that we normally\\nobtain from petroleum. Industry has\\nalready begun to use cornstarch to pro-\\nduce commodity plastics, such as\\nshrinkwrap, plastic eating utensils, and\\neven car bumpers. Commercial develop-\\nment is underway to make thermoset\\nplastics, like electrical switch plate covers,\\nfrom wood residues. \\nGeothermal Energy\\nThe Earth’s core, 4,000 miles below the sur-\\nface, can reach temperatures of 9000° F.\\nThis heat—geothermal energy—flows out-\\nward from the core, heating the surround-\\ning area, which can form underground\\nreservoirs of hot water and steam. These\\nreservoirs can be tapped for a variety of\\nuses, such as to generate electricity or heat\\nbuildings. By using geothermal heat\\npumps (GHPs), we can even take advan-\\ntage of the shallow ground’s stable tem-\\nperature for heating and cooling buildings. \\nThe geothermal energy potential in the\\nuppermost 6 miles of the Earth’s crust\\namounts to 50,000 times the energy of all\\noil and gas resources in the world. In the\\nUnited States, most geothermal reservoirs\\nare located in the western states, Alaska,\\nand Hawaii. GHPs, however, can be used\\nalmost anywhere.  \\nGeothermal Electricity Production \\nGeothermal power plants access the under-\\nground steam or hot water from wells\\ndrilled a mile or more into the earth. The\\nsteam or hot water is piped up from the\\nwell to drive a conventional steam turbine,\\nwhich powers an electric generator. Typi-\\ncally, the water is then returned to the\\nground to recharge the reservoir and com-\\nplete the renewable energy cycle. \\nThere are three types of geothermal power\\nplants: dry steam, flash steam, and binary\\ncycle. Dry steam plants draw from reser-\\nvoirs of steam, while both flash steam and\\nbinary cycle plants draw from reservoirs\\nof hot water. Flash steam plants typically\\nuse water at temperatures greater than\\n360°F. Unlike both steam and flash plants,\\nbinary-cycle plants transfer heat from the\\nwater to what’s called a working fluid.\\nTherefore binary cycle plants can operate\\nusing water at lower temperatures of\\nabout 225° to 360°F. \\nAll of the U.S. geothermal power plants\\nare in California, Nevada, Utah, and\\nHawaii. Altogether about 2800 MW of\\ngeothermal electric capacity is produced\\nannually in this country. \\nGeothermal Direct Use\\nIf you’ve ever soaked in a natural hot spring,\\nyou’re one of millions of people around the\\nworld who has enjoyed the direct use of\\nThis gasifier in Burlinton, Vermont, converts biomass\\ninto a clean gas for electricity production\\nWarren Gretz, NREL/PIX04744\\nThe Steamboat Hills geothermal power plant\\nin Steamboat Springs, Nevada has an electric-\\nity generation capacity of 13.5 MW.\\nJoel Renner, INEEL, NREL/PIX07658\"),\n",
       " Document(metadata={'source': 'pdfs/renewable.pdf', 'page': 3}, page_content='geothermal energy. Direct-use applications\\nrequire geothermal temperatures between\\nabout 70° to 302°F—lower than those\\nrequired for electricity generation. The\\nUnited States already has about 1,300 geot-\\nhermal direct-use systems in operation. \\nIn a direct-use system, a well is drilled\\ninto a geothermal reservoir, which pro-\\nvides a steady stream of hot water. Some\\nsystems use the water directly, but most\\npump the water through what’s called a\\nheat exchanger.The heat exchanger keeps\\nthe water separate from a working fluid\\n(usually water or a mixture of water and\\nantifreeze), which is heated by the geot-\\nhermal water. The working fluid then\\nflows through piping, distributing the\\nheat directly for its intended use. \\nThe heated water or fluid can be used in a\\nbuilding to replace the traditional heat\\nsource—often natural gas—of a boiler, fur-\\nnace, and hot water heater. Some cities\\nand towns actually have large direct-use\\nheating systems—called district heating—\\nthat provide many buildings with heat.\\nGeothermal direct use is also used in agri-\\nculture—such as for fish farms and to heat\\ngreenhouses—and for industrial food pro-\\ncessing (vegetable dehydration).  \\nGeothermal Heat Pumps\\nWhile air temperatures can vary widely\\nthrough the seasons, the temperatures of\\nthe shallow ground only range from 50° to\\n70°F depending on latitude. GHPs draw\\non this relatively stable temperature as a\\nsource for heating buildings in the winter\\nand keeping them cool in the summer. \\nThrough underground piping, a GHP dis-\\ncharges heat from inside a building into\\nthe ground in the summer, much like a\\nrefrigerator uses electricity to keep its inte-\\nrior cool while releasing heat into your\\nkitchen. In the winter, this process is\\nreversed; the GHP extracts heat from the\\nground and releases it into a building.\\nBecause GHPs actually move heat between\\nhomes and the earth, instead of burning\\nfuels, they operate very cleanly and effi-\\nciently. In fact, GHPs are at least three times\\nmore efficient than even the most energy-\\nefficient furnaces on the market today.\\nSolar Energy\\nSolar technologies tap directly into the\\ninfinite power of the sun and use that\\nenergy to produce heat, light, and power. \\nPassive Solar Lighting and Heating \\nPeople have used the sun to heat and light\\ntheir homes for centuries. Ancient Native\\nAmericans built their dwellings directly\\ninto south-facing cliff walls because they\\nknew the sun travels low across the south-\\nern sky in the Northern Hemisphere dur-\\ning the winter. They also knew the\\nmassive rock of the cliff would absorb\\nheat in winter and protect against wind\\nand snow. At the same time, the cliff-\\ndwelling design blocked sunlight during\\nthe summer, when the sun is higher in the\\nsky, keeping their dwellings cool. \\nThe modern version of this sun-welcoming\\ndesign is called passive solar because no\\npumps, fans, or other mechanical devices\\nare used. Its most basic features include\\nlarge, south-facing windows that fill the\\nhome with natural sunlight, and dark tile\\nor brick floors that store the sun’s heat and\\nrelease it back into the home at night. In the\\nsummer, when the sun is higher in the sky,\\nwindow overhangs block direct sunlight,\\nwhich keeps the house cool. Tile and brick\\nfloors also remain cool during the summer.\\nPassive solar design combined with\\nenergy efficiency will go even further.\\nEnergy-efficient features such as energy-\\nsaving windows and appliances, along\\nwith good insulation and weatherstrip-\\nping, can make a huge difference in\\nenergy and cost savings. \\nSolar Water Heating \\nSolar energy can be used to heat water for\\nyour home or your swimming pool. Most\\nsolar water-heating systems consist of a\\nsolar collector and a water storage tank. \\nSolar water-heating systems use collectors,\\ngenerally mounted on a south-facing roof,\\nto heat either water or a heat-transfer\\nfluid, such as a nontoxic antifreeze. The\\nheated water is then stored in a water tank\\nsimilar to one used in a conventional gas\\nor electric water-heating system. \\n4'),\n",
       " Document(metadata={'source': 'pdfs/renewable.pdf', 'page': 3}, page_content='fluid, such as a nontoxic antifreeze. The\\nheated water is then stored in a water tank\\nsimilar to one used in a conventional gas\\nor electric water-heating system. \\n4\\nAltogether about\\n2800 MW of \\ngeothermal electric\\ncapacity is produced\\nannually in this \\ncountry.\\nThis homeowner in Aurora,\\nColorado, uses a GHP to heat\\nand cool his home.\\nWarren Gretz, NREL/PIX06537'),\n",
       " Document(metadata={'source': 'pdfs/renewable.pdf', 'page': 4}, page_content='There are basically\\nthree types of solar\\ncollectors for heat-\\ning water: flat-\\nplate, evacuated-\\ntube, and concen-\\ntrating. The most\\ncommon type, a\\nflat-plate collector, is\\nan insulated,\\nweatherproof box\\ncontaining a dark\\nabsorber plate\\nunder a transpar-\\nent cover. Evacu-\\nated-tube collectors\\nare made up of\\nrows of parallel, transparent glass tubes.\\nEach tube consists of a glass outer tube\\nand an inner tube, or absorber, covered\\nwith a coating that absorbs solar energy\\nbut inhibits heat loss. Concentrating collec-\\ntors for residential applications are usually\\nparabolic-shaped mirrors (like a trough)\\nthat concentrate the sun’s energy on an\\nabsorber tube called a receiver that runs\\nalong the axis of the mirrored trough and\\ncontains a heat-transfer fluid.\\nAll three types of collectors heat water by\\ncirculating household water or a heat-trans-\\nfer fluid such as a nontoxic antifreeze from\\nthe collector to the water storage tanks. Col-\\nlectors do this either passively or actively. \\nPassive solar water-heating systems use\\nnatural convection or household water\\npressure to circulate water through a solar\\ncollector to a storage tank. They have no\\nelectric components that could break, a\\nfeature that generally makes them more\\nreliable, easier to maintain, and possibly\\nlonger lasting than active systems. \\nAn active system uses an electric pump to\\ncirculate water or nontoxic antifreeze\\nthrough the system. Active systems are\\nusually more expensive than passive sys-\\ntems, but they are also more efficient.\\nActive systems also can be easier to retrofit\\nthan passive systems because their storage\\ntanks do not need to be installed above or\\nclose to the collectors. Also, the moving\\nwater in the system will not freeze in cold\\nclimates. But because these systems use\\nelectricity, they will not function in a\\npower outage. That’s why many active\\nsystems are now combined with a small\\nsolar-electric panel to power the pump. \\nThe amount of hot water a solar water\\nheater produces depends on the type and\\nsize of the system, the amount of sun\\navailable at the site, proper installation,\\nand the tilt angle and orientation of the\\ncollectors. But if you’re currently using an\\nelectric water heater, solar water heating is\\na cost-effective alternative. If you own a\\nswimming pool, heating the water with\\nsolar collectors can also save you money. \\nSolar Electricity\\nSolar electricity or photovoltaic (PV) tech-\\nnology converts sunlight directly into elec-\\ntricity. Solar electricity has been a prime\\nsource of power for space vehicles since\\nthe inception of the space program. It has\\nalso been used to power small electronics\\nand rural and agricultural applications for\\nthree decades. During the last decade, a\\nstrong solar electric market has emerged\\nfor powering urban grid-connected homes\\nand buildings as a result of advances in\\nsolar technology along with global\\nchanges in electric industry restructuring. \\nAlthough many types of solar electric sys-\\ntems are available today, they all consist of\\nbasically three main items: modules that\\nconvert sunlight into electricity; inverters\\nthat convert that electricity into alternat-\\ning current so it can be used by most\\nhousehold appliances; and possibly or\\nsometimes batteries that store excess elec-\\ntricity produced by the system. The\\nremainder of the system comprises equip-\\nment such as wiring, circuit breakers, and\\nsupport structures.\\nToday’s modules can be built into glass\\nskylights and walls. Some modules resem-\\nble traditional roof shingles, but they gen-\\nerate electricity, and some come with\\nbuilt-in inverters. The solar modules avail-\\nable today are more efficient and versatile\\nthan ever before.\\nIn over 30 states, any additional power\\nproduced by a PV system, which is not\\nbeing used by a home or building, can be\\nfed back to the electric grid through a\\nprocess known as net metering. Net meter-\\ning allows electricity customers to pay\\nonly for their “net” electricity, or the\\n5\\nPassive solar building\\ntechniques turn'),\n",
       " Document(metadata={'source': 'pdfs/renewable.pdf', 'page': 4}, page_content='process known as net metering. Net meter-\\ning allows electricity customers to pay\\nonly for their “net” electricity, or the\\n5\\nPassive solar building\\ntechniques turn\\nhomes into huge \\nsolar collectors.\\nThe Four Times Square Building in New York City uses\\nthin-film PV panels to reduce the building’s power load\\nfrom the utility grid.\\nAndrew Gordon and Fox & Fowle Architects, NREL/PIX09052'),\n",
       " Document(metadata={'source': 'pdfs/renewable.pdf', 'page': 5}, page_content='amount of power consumed from their\\nutility minus the power generated by their\\nPV system. This metering arrangement\\nallows consumers to realize full retail\\nvalue for 100 percent of the PV energy\\nproduced by their systems.\\nGrid-connected PV systems do not require\\nbatteries. However, some grid connected\\nsystems use them for emergency backup\\npower. And of course in remote areas, solar\\nelectricity is often a economic alternative to\\nexpensive distribution line extensions\\nincurred by a customer first connecting to\\nthe utility grid. Electricity produced by\\nsolar electric systems in remote locations is\\nstored in batteries. Batteries will usually\\nstore electricity produced by a solar-\\nelectric system for up to three days.\\nWhat type of system to purchase will\\ndepend on the energy-efficiency of your\\nhome, your home’s location, and your\\nbudget. Before you size your system, try\\nreducing energy demand through energy-\\nefficient measures. Purchasing energy-sav-\\ning appliances and lights, for example, will\\nreduce your electrical demand and allow\\nyou to purchase a smaller solar-electric\\nsystem to meet your energy needs or get\\nmore value from a larger system. Energy\\nefficiency allows you to start small and\\nthen add on as your energy needs increase. \\nSolar Thermal Electricity \\nUnlike solar-electric systems that convert\\nsunlight into electricity, solar thermal elec-\\ntric systems convert the sun’s heat into\\nelectricity. This technology is used primar-\\nily in large-scale power plants for power-\\ning cities and communities, especially in\\nthe Southwest where consistent hours of\\nsunlight are greater than other parts of the\\nUnited States.\\nConcentrating solar power (CSP) tech-\\nnologies convert solar energy into electric-\\nity by using mirrors to focus sunlight onto\\na component called a receiver. The\\nreceiver transfers the heat to a conven-\\ntional engine-generator—such as a steam\\nturbine—that generates electricity. \\nThere are three types of CSP systems:\\npower towers (central receivers), parabolic\\ntroughs, and dish/engine systems. A\\npower tower systemuses a large field of\\nmirrors to concentrate sunlight onto the\\ntop of a tower, where a receiver sits.\\nMolten salt flowing through the receiver is\\nheated by the concentrated sunlight. The\\nsalt’s heat is turned into electricity by a\\nconventional steam generator. Parabolic-\\ntrough systems concentrate the sun’s\\nenergy through long, parabolic-shaped\\nmirrors. Sunlight is focused on a pipe\\nfilled with oil that runs down the axis of\\nthe trough. When the oil gets hot, it is\\nused to boil water in a conventional steam\\ngenerator to produce electricity. A\\ndish/engine systemuses a mirrored dish\\n(similar in size to a large satellite dish).\\nThe dish-shaped surface focuses and con-\\ncentrates the sun’s heat onto a receiver at\\nthe focal point of the dish (above and cen-\\nter of the collectors). The receiver absorbs\\nthe sun’s heat and transfers it to a fluid\\nwithin an engine, where the heat causes\\nthe fluid to expand against a piston to pro-\\nduce mechanical power. The mechanical\\npower is then used to run a generator or\\nalternator to produce electricity. \\nConcentrating solar technologies can be\\nused to generate electricity for a variety of\\napplications, ranging from remote power\\nsystems as small as a few kilowatts (kW) up\\nto grid-connected applications of 200 MW\\nor more. A 354-MW power plant in South-\\nern California, which consists of nine trough\\npower plants, meets the energy needs of\\nmore than 350,000 people and is the\\nworld’s largest solar energy power plant.\\nWind Energy\\nFor hundreds of years, people have used\\nwindmills to harness the wind’s energy.\\nToday’s wind turbines, which operate dif-\\nferently from windmills, are a much more\\nefficient technology. \\nWind turbine technology may look simple:\\nthe wind spins turbine blades around a\\ncentral hub; the hub is connected to a shaft,\\nwhich powers a generator to make electric-\\nity. However, turbines are highly sophisti-\\ncated power systems that capture the wind’s'),\n",
       " Document(metadata={'source': 'pdfs/renewable.pdf', 'page': 5}, page_content='central hub; the hub is connected to a shaft,\\nwhich powers a generator to make electric-\\nity. However, turbines are highly sophisti-\\ncated power systems that capture the wind’s\\nenergy by means of new blade designs or\\nairfoils.Modern, mechanical drive systems,\\ncombined with advanced generators, con-\\nvert that energy into electricity.  \\nWind turbines that provide electricity to\\nthe utility grid range in size from 50 kW to\\n6\\nWind energy has been\\nthe fastest growing\\nsource of energy since\\n1990…\\nThis dish/Stirling solar \\npower system in Arizona is\\ncapable of producing 25 kW \\nof electricity.\\nBill Timmerman, NREL/PIX08982'),\n",
       " Document(metadata={'source': 'pdfs/renewable.pdf', 'page': 6}, page_content='7\\nHydrogen is high in\\nenergy, yet its use as \\na fuel produces water\\nas the only emission.\\n1 or 2 MW. Large,\\nutility-scale pro-\\njects can have hun-\\ndreds of turbines\\nspread over many\\nacres of land.\\nSmall turbines,\\nbelow 50 kW, are\\nused to charge bat-\\nteries, electrify\\nhomes, pump\\nwater for farms\\nand ranches, and\\npower remote\\ntelecommunica-\\ntions equipment.\\nWind turbines can\\nalso be placed in\\nthe shallow water\\nnear a coastline if open land is limited,\\nsuch as in Europe, and/or to take advan-\\ntage of strong, offshore winds. \\nWind energy has been the fastest growing\\nsource of energy in the world since 1990,\\nincreasing at an average rate of over 25\\npercent per year. It’s a trend driven largely\\nby dramatic improvements in wind tech-\\nnology. Currently, wind energy capacity\\namounts to about 2500 MW in the United\\nStates. Good wind areas, which cover 6\\npercent of the contiguous U.S. land area,\\ncould supply more than one and a half\\ntimes the 1993 electricity consumption of\\nthe entire country. \\nCalifornia now has the largest number of\\ninstalled turbines. Many turbines are also\\nbeing installed across the Great Plains,\\nreaching from Montana east to Minnesota\\nand south through Texas, to take advantage\\nof its vast wind resource. North Dakota\\nalone has enough wind to supply 36 percent\\nof the total 1990 electricity consumption of\\nthe lower 48 states. Hawaii, Iowa, Min-\\nnesota, Oregon, Texas, Washington, Wiscon-\\nsin,and Wyoming are among states where\\nwind energy use is rapidly increasing.\\nHydrogen\\nHydrogen is high in energy, yet its use as a\\nfuel produces water as the only emission.\\nHydrogen is the universe’s most abundant\\nelement and also its simplest. A hydrogen\\natom consists of only one proton and \\none electron. Despite its abundance and \\nsimplicity, it doesn’t occur naturally as a\\ngas on the Earth. \\nToday, industry produces more than 4 tril-\\nlion cubic feet of hydrogen annually. Most\\nof this hydrogen is produced through a\\nprocess called reforming, which involves\\nthe application of heat to separate hydro-\\ngen from carbon. Researchers are develop-\\ning highly efficient, advanced reformers to\\nproduce hydrogen from natural gas for\\nwhat’s called Proton Exchange Membrane\\nfuel cells.\\nYou can think of fuel cells as batteries that\\nnever lose their charge. Today, hydrogen\\nfuel cells offer tremendous potential to\\nproduce electrical power for distributed\\nenergy systems and vehicles. In the future,\\nhydrogen could join electricity as an\\nimportant “energy carrier”: storing, mov-\\ning, and delivering energy in a usable form\\nto consumers. Renewable energy sources,\\nlike the sun, can’t produce energy all the\\ntime. But hydrogen can store the renew-\\nable energy produced until it’s needed. \\nEventually, researchers would like to\\ndirectly produce hydrogen from water\\nusing solar, wind, and biomass and bio-\\nlogical technologies. \\nOcean Energy\\nThe ocean can produce two types of energy:\\nthermal energyfrom the sun’s heat, and\\nmechanical energy from the tides and waves.\\nOcean thermal energy can be used for\\nmany applications, including electricity\\ngeneration. Electricity conversion systems\\nuse either the warm surface water or boil\\nthe seawater to turn a turbine, which acti-\\nvates a generator.\\nThe electricity conversion of both tidal\\nand wave energy usually involves\\nmechanical devices. A dam is typically\\nused to convert tidal energy into electric-\\nity by forcing the water through turbines,\\nactivating a generator. Meanwhile, wave\\nenergy uses mechanical power to directly\\nactivate a generator, or to transfer to a\\nworking fluid, water, or air, which then\\ndrives a turbine/generator.\\nMost of the research and development in\\nocean energy is happening in Europe. \\nThe 6-MW Green Mountain power plant in Searsburg, \\nVermont, consists of eleven 550-kW wind turbines.\\nGreen Mountain Power Corporation, NREL/PIX05768\\nNASA uses liquid hydrogen\\nto launch its space shuttles\\nand hydrogen fuel cells to\\nprovide them with electricity\\nNASA, NREL/PIX03814'),\n",
       " Document(metadata={'source': 'pdfs/renewable.pdf', 'page': 7}, page_content='8\\nResources \\nThe following are sources of additional information on\\nrenewable energy. The list is not exhaustive, nor does the\\nmention of any resource constitute a recommendation or\\nendorsement.\\nAsk an Energy Expert\\nDOE’s Energy Efficiency and Renewable Energy \\nClearinghouse (EREC) \\nP .O. Box 3048\\nMerrifield, VA 22116\\nPhone: 1-800-DOE-EREC (363-3732)\\nTDD: 1-800-273-2957\\nFax: (703) 893-0400\\nE-mail: doe.erec@nciinc.com\\nOnline submittal form: www.eren.doe.gov/menus/\\nenergyex.html\\nConsumer Energy Information Web site: www.eren.doe.\\ngov/consumerinfo/\\nEnergy experts at EREC provide free general and technical\\ninformation to the public on many topics and technologies per-\\ntaining to energy efficiency and renewable energy. \\nDOE’s Energy Efficiency and Renewable Energy \\nNetwork (EREN) \\nWeb site: www.eren.doe.gov\\nYour comprehensive online resource for DOE’s energy effi-\\nciency and renewable energy information.  \\nOrganizations\\nCenter for Energy Efficiency and Renewable Energy\\n(CEERT)\\n1100 Eleventh St., Suite 311\\nSacramento, CA 95814 \\nPhone (916) 442-7785; Fax (916) 447-2940 \\nE-mail: info@ceert.org \\nWeb site: www.cleanpower.org\\nPromotes the development of renewable energy technologies\\nand resources.\\nNational Renewable Energy Laboratory (NREL)\\n1617 Cole Blvd.\\nGolden, CO 80401\\nWeb site: www.nrel.gov\\nDOE-lab devoted to researching and developing renewable\\nenergy and energy efficiency technologies. \\nRenewable Energy Policy Project (REPP)\\n1612 K St. NW, Suite 202\\nWashington, DC 20006 \\nPhone: (202) 293-2898; Fax: (202) 293-5857\\nWeb site: www.repp.org\\nWorks to advance renewable energy technologies. \\nWeb Sites \\nCADDET Renewable Energy \\nWeb site: www.caddet-re.org\\nProvides technical information on renewable energy projects\\nand technologies from around the world. \\nClean Energy Basics\\nNREL\\nWeb site: www.nrel.gov/clean_energy/\\nProvides basic information on renewable energy technologies,\\nincluding specific links for homeowners, small business own-\\ners, students, and teachers. \\nEuropean Renewable Energy Exchange (EuroREX)\\nWeb site: www.eurorex.com\\nFeatures information and news on renewable energy technol-\\nogy developments in Europe and around the world. \\nPlanet Energy—The Renewable Energy Trail \\nUnited Kingdom Department of Trade and Industry \\nWeb site: www.dti.gov.uk/renewable/ed_pack/\\nindex.html\\nSpecifically gears its information for students and teachers,\\nfrom grade school through high school. \\nSolstice \\nCenter for Renewable Energy and Sustainable \\nTechnology (CREST) \\nWeb site: http:/ /solstice.crest.org\\nProvides an online source of information on renewable energy\\nand technology development. \\nFurther Reading\\nAchieving Energy Independence—One Step at a Time, J.\\nYago, Dunimis Technology, 1999, 190 pp. \\nCharging Ahead: The Business of Renewable Energy and\\nWhat It Means for America, J. Berger and L. Thurow, Uni-\\nversity of California Press, 1998, 416 pp. \\nClean Energy Choices: Tips on Buying and Using Renewable\\nEnergy at Home, DOE Office of Energy Efficiency and\\nRenewable Energy, 2000, 48 pp. Print copy available\\nfrom EREC (see “Ask an Energy Expert” above), and a\\nPDF is available at www.nrel.gov/docs/fy00osti/\\n27684.pdf. \\nThe Real Goods Solar Living Sourcebook: The Complete Guide\\nto Renewable Energy Technologies and Sustainable Living,D.\\nPratt ed., Real Goods, 1999, 562 pp.')]"
      ]
     },
     "execution_count": 5,
     "metadata": {},
     "output_type": "execute_result"
    }
   ],
   "source": [
    "\n",
    "\n",
    "loader = PyPDFLoader(\"pdfs/renewable.pdf\")\n",
    "pages = loader.load_and_split()\n",
    "pages"
   ]
  },
  {
   "cell_type": "code",
   "execution_count": 6,
   "id": "3dee1815",
   "metadata": {},
   "outputs": [],
   "source": [
    "# vectorstore = Chroma.from_documents(\n",
    "#     documents=pages,\n",
    "#     collection_name=\"ollama_embeds\",\n",
    "#     embedding=OllamaEmbeddings(model='nomic-embed-text'),\n",
    "# )\n",
    "# retriever = vectorstore.as_retriever()\n",
    "parser = StrOutputParser()"
   ]
  },
  {
   "cell_type": "code",
   "execution_count": 7,
   "id": "4c7f8c28",
   "metadata": {},
   "outputs": [
    {
     "name": "stdout",
     "output_type": "stream",
     "text": [
      "\n",
      "Answer the question based only on the following context. \n",
      "If you can't answer the question based on the context, reply \n",
      "\"Sorry. I don't know at this moment\":\n",
      "\n",
      "Context: Here is some context\n",
      "\n",
      "Question: Here is a question?\n",
      "\n"
     ]
    }
   ],
   "source": [
    "rag_template = \"\"\"\n",
    "Answer the question based only on the following context. \n",
    "If you can't answer the question based on the context, reply \n",
    "\"Sorry. I don't know at this moment\":\n",
    "\n",
    "Context: {context}\n",
    "\n",
    "Question: {question}\n",
    "\"\"\"\n",
    "prompt = PromptTemplate.from_template(rag_template)\n",
    "print(prompt.format(context = \"Here is some context\", question = \"Here is a question?\"))\n",
    "# rag_chain = (\n",
    "#     {\"context\": retriever, \"question\": RunnablePassthrough()}\n",
    "#     | rag_prompt\n",
    "#     | model\n",
    "#     | StrOutputParser()\n",
    "# )"
   ]
  },
  {
   "cell_type": "code",
   "execution_count": 8,
   "id": "1db900b6",
   "metadata": {},
   "outputs": [],
   "source": [
    "chain = prompt | model | parser"
   ]
  },
  {
   "cell_type": "code",
   "execution_count": 9,
   "id": "63de7aab",
   "metadata": {},
   "outputs": [
    {
     "data": {
      "text/plain": [
       "'Jaipur.'"
      ]
     },
     "execution_count": 9,
     "metadata": {},
     "output_type": "execute_result"
    }
   ],
   "source": [
    "chain.invoke({\n",
    "    \"context\": \"I am enjoying Jaipur places.\",\n",
    "    \"question\" : \" Where am I right now?\"\n",
    "})"
   ]
  },
  {
   "cell_type": "code",
   "execution_count": 10,
   "id": "be8de3ee",
   "metadata": {},
   "outputs": [
    {
     "name": "stderr",
     "output_type": "stream",
     "text": [
      "C:\\Users\\Vikramaditya Mishra\\AppData\\Local\\Temp\\ipykernel_25064\\3734046490.py:1: LangChainDeprecationWarning: The class `OllamaEmbeddings` was deprecated in LangChain 0.3.1 and will be removed in 1.0.0. An updated version of the class exists in the :class:`~langchain-ollama package and should be used instead. To use it run `pip install -U :class:`~langchain-ollama` and import as `from :class:`~langchain_ollama import OllamaEmbeddings``.\n",
      "  embeddings = OllamaEmbeddings(model=MODEL)\n"
     ]
    }
   ],
   "source": [
    "embeddings = OllamaEmbeddings(model=MODEL)\n",
    "\n"
   ]
  },
  {
   "cell_type": "code",
   "execution_count": 11,
   "id": "12409289",
   "metadata": {},
   "outputs": [],
   "source": [
    "# vectorstore = Chroma.from_documents(\n",
    "#     documents=pages,\n",
    "#     collection_name=\"ollama_embeds\",\n",
    "#     embedding=OllamaEmbeddings(model=MODEL),\n",
    "# )\n",
    "# retriever = vectorstore.as_retriever()\n",
    "import faiss\n",
    "from langchain_community.docstore.in_memory import InMemoryDocstore\n",
    "from langchain_community.vectorstores import FAISS\n",
    "\n",
    "index = faiss.IndexFlatL2(len(embeddings.embed_query(\"hello world\")))\n",
    "\n",
    "vector_store = FAISS(\n",
    "    embedding_function=embeddings,\n",
    "    index=index,\n",
    "    docstore=InMemoryDocstore(),\n",
    "    index_to_docstore_id={},\n",
    ")"
   ]
  },
  {
   "cell_type": "code",
   "execution_count": 12,
   "id": "b58e15aa",
   "metadata": {},
   "outputs": [],
   "source": [
    "from uuid import uuid4\n",
    "uuids = [str(uuid4()) for _ in range(len(pages))]"
   ]
  },
  {
   "cell_type": "code",
   "execution_count": 13,
   "id": "2e72a141",
   "metadata": {},
   "outputs": [
    {
     "data": {
      "text/plain": [
       "[Document(id='10ce38e5-52d0-4852-8246-a013ae161ac5', metadata={'source': 'pdfs/renewable.pdf', 'page': 3}, page_content='geothermal energy. Direct-use applications\\nrequire geothermal temperatures between\\nabout 70° to 302°F—lower than those\\nrequired for electricity generation. The\\nUnited States already has about 1,300 geot-\\nhermal direct-use systems in operation. \\nIn a direct-use system, a well is drilled\\ninto a geothermal reservoir, which pro-\\nvides a steady stream of hot water. Some\\nsystems use the water directly, but most\\npump the water through what’s called a\\nheat exchanger.The heat exchanger keeps\\nthe water separate from a working fluid\\n(usually water or a mixture of water and\\nantifreeze), which is heated by the geot-\\nhermal water. The working fluid then\\nflows through piping, distributing the\\nheat directly for its intended use. \\nThe heated water or fluid can be used in a\\nbuilding to replace the traditional heat\\nsource—often natural gas—of a boiler, fur-\\nnace, and hot water heater. Some cities\\nand towns actually have large direct-use\\nheating systems—called district heating—\\nthat provide many buildings with heat.\\nGeothermal direct use is also used in agri-\\nculture—such as for fish farms and to heat\\ngreenhouses—and for industrial food pro-\\ncessing (vegetable dehydration).  \\nGeothermal Heat Pumps\\nWhile air temperatures can vary widely\\nthrough the seasons, the temperatures of\\nthe shallow ground only range from 50° to\\n70°F depending on latitude. GHPs draw\\non this relatively stable temperature as a\\nsource for heating buildings in the winter\\nand keeping them cool in the summer. \\nThrough underground piping, a GHP dis-\\ncharges heat from inside a building into\\nthe ground in the summer, much like a\\nrefrigerator uses electricity to keep its inte-\\nrior cool while releasing heat into your\\nkitchen. In the winter, this process is\\nreversed; the GHP extracts heat from the\\nground and releases it into a building.\\nBecause GHPs actually move heat between\\nhomes and the earth, instead of burning\\nfuels, they operate very cleanly and effi-\\nciently. In fact, GHPs are at least three times\\nmore efficient than even the most energy-\\nefficient furnaces on the market today.\\nSolar Energy\\nSolar technologies tap directly into the\\ninfinite power of the sun and use that\\nenergy to produce heat, light, and power. \\nPassive Solar Lighting and Heating \\nPeople have used the sun to heat and light\\ntheir homes for centuries. Ancient Native\\nAmericans built their dwellings directly\\ninto south-facing cliff walls because they\\nknew the sun travels low across the south-\\nern sky in the Northern Hemisphere dur-\\ning the winter. They also knew the\\nmassive rock of the cliff would absorb\\nheat in winter and protect against wind\\nand snow. At the same time, the cliff-\\ndwelling design blocked sunlight during\\nthe summer, when the sun is higher in the\\nsky, keeping their dwellings cool. \\nThe modern version of this sun-welcoming\\ndesign is called passive solar because no\\npumps, fans, or other mechanical devices\\nare used. Its most basic features include\\nlarge, south-facing windows that fill the\\nhome with natural sunlight, and dark tile\\nor brick floors that store the sun’s heat and\\nrelease it back into the home at night. In the\\nsummer, when the sun is higher in the sky,\\nwindow overhangs block direct sunlight,\\nwhich keeps the house cool. Tile and brick\\nfloors also remain cool during the summer.\\nPassive solar design combined with\\nenergy efficiency will go even further.\\nEnergy-efficient features such as energy-\\nsaving windows and appliances, along\\nwith good insulation and weatherstrip-\\nping, can make a huge difference in\\nenergy and cost savings. \\nSolar Water Heating \\nSolar energy can be used to heat water for\\nyour home or your swimming pool. Most\\nsolar water-heating systems consist of a\\nsolar collector and a water storage tank. \\nSolar water-heating systems use collectors,\\ngenerally mounted on a south-facing roof,\\nto heat either water or a heat-transfer\\nfluid, such as a nontoxic antifreeze. The\\nheated water is then stored in a water tank\\nsimilar to one used in a conventional gas\\nor electric water-heating system. \\n4'),\n",
       " Document(id='dd420b47-3ea2-4000-8167-25ff5eaabaac', metadata={'source': 'pdfs/renewable.pdf', 'page': 4}, page_content='process known as net metering. Net meter-\\ning allows electricity customers to pay\\nonly for their “net” electricity, or the\\n5\\nPassive solar building\\ntechniques turn\\nhomes into huge \\nsolar collectors.\\nThe Four Times Square Building in New York City uses\\nthin-film PV panels to reduce the building’s power load\\nfrom the utility grid.\\nAndrew Gordon and Fox & Fowle Architects, NREL/PIX09052'),\n",
       " Document(id='6b0685f6-997d-460b-98f8-b7c3a68cc2f9', metadata={'source': 'pdfs/renewable.pdf', 'page': 5}, page_content='central hub; the hub is connected to a shaft,\\nwhich powers a generator to make electric-\\nity. However, turbines are highly sophisti-\\ncated power systems that capture the wind’s\\nenergy by means of new blade designs or\\nairfoils.Modern, mechanical drive systems,\\ncombined with advanced generators, con-\\nvert that energy into electricity.  \\nWind turbines that provide electricity to\\nthe utility grid range in size from 50 kW to\\n6\\nWind energy has been\\nthe fastest growing\\nsource of energy since\\n1990…\\nThis dish/Stirling solar \\npower system in Arizona is\\ncapable of producing 25 kW \\nof electricity.\\nBill Timmerman, NREL/PIX08982'),\n",
       " Document(id='2e00d1b9-0e7d-428e-8f15-b0669663d6ab', metadata={'source': 'pdfs/renewable.pdf', 'page': 2}, page_content=\"3\\nIf you’ve ever burned\\nwood in a fireplace \\nor campfire, you've\\nused bioenergy.\\nozone. Flex-fuel\\nvehicles are also\\nnow on the market,\\nwhich can use a\\nmixture of gasoline\\nand ethanol, such\\nas E85—a mixture\\nof 85 percent\\nethanol and 15 per-\\ncent gasoline.\\nAnother biofuel is\\nbiodiesel, which\\ncan be made from\\nvegetable and ani-\\nmal fats. Biodiesel\\ncan be used to fuel\\na vehicle or as a\\nfuel additive to reduce emissions.\\nCorn ethanol and biodiesel provide about\\n0.4 percent of the total liquid fuels market.\\nTo increase our available supply of biofu-\\nels, researchers are testing crop residues—\\nsuch as cornstalks and leaves—wood\\nchips, food waste, grass, and even trash as\\npotential biofuel sources.\\nBiobased Products\\nBiomass—corn, wheat, soybeans, wood,\\nand residues—can also be used to produce\\nchemicals and materials that we normally\\nobtain from petroleum. Industry has\\nalready begun to use cornstarch to pro-\\nduce commodity plastics, such as\\nshrinkwrap, plastic eating utensils, and\\neven car bumpers. Commercial develop-\\nment is underway to make thermoset\\nplastics, like electrical switch plate covers,\\nfrom wood residues. \\nGeothermal Energy\\nThe Earth’s core, 4,000 miles below the sur-\\nface, can reach temperatures of 9000° F.\\nThis heat—geothermal energy—flows out-\\nward from the core, heating the surround-\\ning area, which can form underground\\nreservoirs of hot water and steam. These\\nreservoirs can be tapped for a variety of\\nuses, such as to generate electricity or heat\\nbuildings. By using geothermal heat\\npumps (GHPs), we can even take advan-\\ntage of the shallow ground’s stable tem-\\nperature for heating and cooling buildings. \\nThe geothermal energy potential in the\\nuppermost 6 miles of the Earth’s crust\\namounts to 50,000 times the energy of all\\noil and gas resources in the world. In the\\nUnited States, most geothermal reservoirs\\nare located in the western states, Alaska,\\nand Hawaii. GHPs, however, can be used\\nalmost anywhere.  \\nGeothermal Electricity Production \\nGeothermal power plants access the under-\\nground steam or hot water from wells\\ndrilled a mile or more into the earth. The\\nsteam or hot water is piped up from the\\nwell to drive a conventional steam turbine,\\nwhich powers an electric generator. Typi-\\ncally, the water is then returned to the\\nground to recharge the reservoir and com-\\nplete the renewable energy cycle. \\nThere are three types of geothermal power\\nplants: dry steam, flash steam, and binary\\ncycle. Dry steam plants draw from reser-\\nvoirs of steam, while both flash steam and\\nbinary cycle plants draw from reservoirs\\nof hot water. Flash steam plants typically\\nuse water at temperatures greater than\\n360°F. Unlike both steam and flash plants,\\nbinary-cycle plants transfer heat from the\\nwater to what’s called a working fluid.\\nTherefore binary cycle plants can operate\\nusing water at lower temperatures of\\nabout 225° to 360°F. \\nAll of the U.S. geothermal power plants\\nare in California, Nevada, Utah, and\\nHawaii. Altogether about 2800 MW of\\ngeothermal electric capacity is produced\\nannually in this country. \\nGeothermal Direct Use\\nIf you’ve ever soaked in a natural hot spring,\\nyou’re one of millions of people around the\\nworld who has enjoyed the direct use of\\nThis gasifier in Burlinton, Vermont, converts biomass\\ninto a clean gas for electricity production\\nWarren Gretz, NREL/PIX04744\\nThe Steamboat Hills geothermal power plant\\nin Steamboat Springs, Nevada has an electric-\\nity generation capacity of 13.5 MW.\\nJoel Renner, INEEL, NREL/PIX07658\")]"
      ]
     },
     "execution_count": 13,
     "metadata": {},
     "output_type": "execute_result"
    }
   ],
   "source": [
    "vector_store.add_documents(documents=pages, ids=uuids)\n",
    "vector_store.as_retriever().invoke(\"energy\")"
   ]
  },
  {
   "cell_type": "code",
   "execution_count": 14,
   "id": "ebbc0f63",
   "metadata": {},
   "outputs": [],
   "source": [
    "retriever = vector_store.as_retriever()"
   ]
  },
  {
   "cell_type": "code",
   "execution_count": 15,
   "id": "ec8fd454",
   "metadata": {},
   "outputs": [],
   "source": [
    "from operator import itemgetter\n",
    "\n",
    "chain = (\n",
    "    {\n",
    "        \"context\": itemgetter(\"question\") | retriever,\n",
    "        \"question\": itemgetter(\"question\"),\n",
    "    }\n",
    "    | prompt\n",
    "    | model\n",
    "    | parser\n",
    ")"
   ]
  },
  {
   "cell_type": "code",
   "execution_count": 16,
   "id": "81e49a7e",
   "metadata": {},
   "outputs": [
    {
     "name": "stdout",
     "output_type": "stream",
     "text": [
      "Question: What is renewable energy?\n",
      "Answer: Renewable energy refers to sources of energy that can be replenished naturally over time and are not depleted when used. Examples include:\n",
      "\n",
      "* Solar energy\n",
      "* Wind energy\n",
      "* Geothermal energy (heat from the Earth)\n",
      "* Hydro energy (energy from water, such as rivers or ocean tides)\n",
      "* Biomass energy (energy from organic matter, such as plants or waste)\n",
      "\n",
      "These sources of energy are often contrasted with non-renewable energy sources, which can be depleted when used and take a long time to form again. Examples of non-renewable energy sources include fossil fuels (coal, oil, and natural gas).\n",
      "\n",
      "Question: What are types of renewbale energy?\n",
      "Answer: According to the text, there are several types of renewable energy mentioned:\n",
      "\n",
      "1. **Solar Energy**: This includes photovoltaic systems and dish/Stirling solar power systems.\n",
      "2. **Wind Energy**: Captured using wind turbines that use new blade designs or airfoils to convert wind energy into electricity.\n",
      "3. **Geothermal Energy**: Although not explicitly mentioned in the provided text, it is a type of renewable energy that can be found on another page in the document (not included here).\n",
      "4. **Hydro Energy**: Also not explicitly mentioned, but it is another form of renewable energy that uses water to generate electricity.\n",
      "5. **Biomass Energy**: Not mentioned in the provided text, but it is a type of renewable energy generated from organic matter such as plants and waste.\n",
      "\n",
      "Additionally, the text mentions other forms of renewable energy, including:\n",
      "\n",
      "* **Tidal Energy**: Although not explicitly mentioned, it can be inferred that this is another form of renewable energy related to ocean power.\n",
      "* **Biofuels**: Another type of renewable energy not mentioned in the provided text.\n",
      "\n",
      "It's worth noting that the text also lists various organizations and websites related to renewable energy research, development, and policy.\n",
      "\n",
      "Question: Explain Wind Energy?\n",
      "Answer: There is no information about Wind Energy in the provided text. The text discusses Geothermal energy, specifically Direct-Use applications and Geothermal Heat Pumps, as well as Solar Energy, including Passive Solar Lighting and Heating and Solar Water Heating. There is no mention of Wind Energy.\n",
      "\n"
     ]
    }
   ],
   "source": [
    "questions = [\n",
    "    \"What is renewable energy?\",\n",
    "    \"What are types of renewbale energy?\",\n",
    "    \"Explain Wind Energy?\",\n",
    "]\n",
    "\n",
    "for question in questions:\n",
    "    print(f\"Question: {question}\")\n",
    "    print(f\"Answer: {chain.invoke({'question': question})}\")\n",
    "    print()"
   ]
  },
  {
   "cell_type": "code",
   "execution_count": 25,
   "id": "fb7007be",
   "metadata": {},
   "outputs": [
    {
     "name": "stdout",
     "output_type": "stream",
     "text": [
      "Running on local URL:  http://127.0.0.1:7866\n",
      "\n",
      "To create a public link, set `share=True` in `launch()`.\n"
     ]
    },
    {
     "data": {
      "text/html": [
       "<div><iframe src=\"http://127.0.0.1:7866/\" width=\"100%\" height=\"500\" allow=\"autoplay; camera; microphone; clipboard-read; clipboard-write;\" frameborder=\"0\" allowfullscreen></iframe></div>"
      ],
      "text/plain": [
       "<IPython.core.display.HTML object>"
      ]
     },
     "metadata": {},
     "output_type": "display_data"
    },
    {
     "data": {
      "text/plain": []
     },
     "execution_count": 25,
     "metadata": {},
     "output_type": "execute_result"
    },
    {
     "name": "stderr",
     "output_type": "stream",
     "text": [
      "Traceback (most recent call last):\n",
      "  File \"c:\\anaconda\\envs\\knowledge\\lib\\site-packages\\gradio\\queueing.py\", line 536, in process_events\n",
      "    response = await route_utils.call_process_api(\n",
      "  File \"c:\\anaconda\\envs\\knowledge\\lib\\site-packages\\gradio\\route_utils.py\", line 322, in call_process_api\n",
      "    output = await app.get_blocks().process_api(\n",
      "  File \"c:\\anaconda\\envs\\knowledge\\lib\\site-packages\\gradio\\blocks.py\", line 1935, in process_api\n",
      "    result = await self.call_function(\n",
      "  File \"c:\\anaconda\\envs\\knowledge\\lib\\site-packages\\gradio\\blocks.py\", line 1520, in call_function\n",
      "    prediction = await anyio.to_thread.run_sync(  # type: ignore\n",
      "  File \"c:\\anaconda\\envs\\knowledge\\lib\\site-packages\\anyio\\to_thread.py\", line 56, in run_sync\n",
      "    return await get_async_backend().run_sync_in_worker_thread(\n",
      "  File \"c:\\anaconda\\envs\\knowledge\\lib\\site-packages\\anyio\\_backends\\_asyncio.py\", line 2364, in run_sync_in_worker_thread\n",
      "    return await future\n",
      "  File \"c:\\anaconda\\envs\\knowledge\\lib\\site-packages\\anyio\\_backends\\_asyncio.py\", line 864, in run\n",
      "    result = context.run(func, *args)\n",
      "  File \"c:\\anaconda\\envs\\knowledge\\lib\\site-packages\\gradio\\utils.py\", line 826, in wrapper\n",
      "    response = f(*args, **kwargs)\n",
      "  File \"C:\\Users\\Vikramaditya Mishra\\AppData\\Local\\Temp\\ipykernel_25064\\772205621.py\", line 98, in submit_feedback\n",
      "    feedback_store = feedback_store.append(\n",
      "  File \"c:\\anaconda\\envs\\knowledge\\lib\\site-packages\\pandas\\core\\generic.py\", line 6299, in __getattr__\n",
      "    return object.__getattribute__(self, name)\n",
      "AttributeError: 'DataFrame' object has no attribute 'append'\n"
     ]
    }
   ],
   "source": [
    "import os\n",
    "import gradio as gr\n",
    "from datetime import datetime\n",
    "from langchain_community.document_loaders import PyPDFLoader\n",
    "from langchain_community.embeddings import OllamaEmbeddings\n",
    "from langchain_community.llms import Ollama\n",
    "from langchain_core.output_parsers import StrOutputParser\n",
    "from langchain.prompts import PromptTemplate\n",
    "from langchain_community.vectorstores import FAISS\n",
    "from langchain_community.docstore.in_memory import InMemoryDocstore\n",
    "import faiss\n",
    "from uuid import uuid4\n",
    "import pandas as pd\n",
    "\n",
    "# Initialize model and embeddings\n",
    "MODEL = \"llama3.1:8b\"\n",
    "model = Ollama(model=MODEL)\n",
    "embeddings = OllamaEmbeddings(model=MODEL)\n",
    "\n",
    "# Metadata-enabled vector store\n",
    "index = faiss.IndexFlatL2(len(embeddings.embed_query(\"hello world\")))\n",
    "vector_store = FAISS(\n",
    "    embedding_function=embeddings,\n",
    "    index=index,\n",
    "    docstore=InMemoryDocstore(),\n",
    "    index_to_docstore_id={},\n",
    ")\n",
    "metadata_store = {}  # Store metadata for documents (keyed by UUID)\n",
    "\n",
    "# Feedback store as a Pandas DataFrame\n",
    "feedback_store = pd.DataFrame(columns=[\"Question\", \"Correct Answer\", \"Feedback\"])\n",
    "\n",
    "# Prompt template\n",
    "rag_template = \"\"\"\n",
    "Answer the question based only on the following context. \n",
    "If you can't answer the question based on the context, reply \n",
    "\"Sorry. I don't know at this moment\":\n",
    "\n",
    "Context: {context}\n",
    "\n",
    "Question: {question}\n",
    "\"\"\"\n",
    "prompt = PromptTemplate.from_template(rag_template)\n",
    "parser = StrOutputParser()\n",
    "\n",
    "# Functions\n",
    "def upload_and_process_pdf(file, tags, category):\n",
    "    loader = PyPDFLoader(file.name)\n",
    "    pages = loader.load_and_split()\n",
    "    \n",
    "    uuids = [str(uuid4()) for _ in range(len(pages))]\n",
    "    vector_store.add_documents(documents=pages, ids=uuids)\n",
    "    \n",
    "    # Add metadata\n",
    "    timestamp = datetime.now().isoformat()\n",
    "    for uuid in uuids:\n",
    "        metadata_store[uuid] = {\"tags\": tags, \"category\": category, \"timestamp\": timestamp}\n",
    "    \n",
    "    return f\"PDF processed successfully with {len(pages)} pages!\"\n",
    "\n",
    "def ask_question(question, filter_tags=None, filter_category=None):\n",
    "    retriever = vector_store.as_retriever()\n",
    "    filtered_contexts = []\n",
    "    \n",
    "    # Apply metadata filters\n",
    "    for uuid, metadata in metadata_store.items():\n",
    "        if filter_tags and not any(tag in metadata[\"tags\"] for tag in filter_tags.split(\",\")):\n",
    "            continue\n",
    "        if filter_category and metadata[\"category\"] != filter_category:\n",
    "            continue\n",
    "        \n",
    "        # Invoke retriever and ensure it appends text\n",
    "        retrieved = retriever.invoke(question)\n",
    "        if isinstance(retrieved, list):\n",
    "            # Extract content from Document objects\n",
    "            filtered_contexts.extend([doc.page_content for doc in retrieved if hasattr(doc, \"page_content\")])\n",
    "        elif isinstance(retrieved, str):\n",
    "            filtered_contexts.append(retrieved)\n",
    "    \n",
    "    if not filtered_contexts:\n",
    "        return \"No matching context found for the specified filters.\"\n",
    "    \n",
    "    context = \"\\n\\n\".join(filtered_contexts)\n",
    "    chain = (\n",
    "        {\n",
    "            \"context\": lambda x: context,\n",
    "            \"question\": lambda x: question,\n",
    "        }\n",
    "        | prompt\n",
    "        | model\n",
    "        | parser\n",
    "    )\n",
    "    return chain.invoke({\"question\": question})\n",
    "\n",
    "\n",
    "def submit_feedback(question, correct_answer, user_feedback):\n",
    "    global feedback_store\n",
    "    new_feedback = pd.DataFrame(\n",
    "        [{\"Question\": question, \"Correct Answer\": correct_answer, \"Feedback\": user_feedback}]\n",
    "    )\n",
    "    feedback_store = pd.concat([feedback_store, new_feedback], ignore_index=True)\n",
    "    return \"Feedback submitted successfully!\"\n",
    "\n",
    "\n",
    "def view_feedback():\n",
    "    global feedback_store\n",
    "    return feedback_store\n",
    "\n",
    "def delete_feedback(index):\n",
    "    global feedback_store\n",
    "    if index >= 0 and index < len(feedback_store):\n",
    "        feedback_store = feedback_store.drop(index).reset_index(drop=True)\n",
    "        return \"Feedback entry deleted successfully!\"\n",
    "    else:\n",
    "        return \"Invalid index. Please try again.\"\n",
    "\n",
    "def retrain_embeddings():\n",
    "    global feedback_store, vector_store\n",
    "    retrained_data = feedback_store[[\"Correct Answer\"]].dropna()\n",
    "    retrained_uuids = [str(uuid4()) for _ in range(len(retrained_data))]\n",
    "    retrained_docs = [{\"text\": ans} for ans in retrained_data[\"Correct Answer\"]]\n",
    "    vector_store.add_documents(documents=retrained_docs, ids=retrained_uuids)\n",
    "    return \"Retraining completed successfully!\"\n",
    "\n",
    "# Gradio app\n",
    "with gr.Blocks() as qa_demo:\n",
    "    gr.Markdown(\"### Enhanced PDF-Based Question Answering System with Knowledge Management and Feedback\")\n",
    "    \n",
    "    with gr.Row():\n",
    "        with gr.Column():\n",
    "            pdf_input = gr.File(label=\"Upload PDF\", file_types=[\".pdf\"])\n",
    "            tags_input = gr.Textbox(label=\"Tags (comma-separated)\")\n",
    "            category_input = gr.Textbox(label=\"Category\")\n",
    "            process_button = gr.Button(\"Process PDF\")\n",
    "            status_output = gr.Textbox(label=\"Status\", interactive=False)\n",
    "        \n",
    "        with gr.Column():\n",
    "            question_input = gr.Textbox(label=\"Ask a Question\")\n",
    "            filter_tags_input = gr.Textbox(label=\"Filter by Tags (optional)\")\n",
    "            filter_category_input = gr.Textbox(label=\"Filter by Category (optional)\")\n",
    "            answer_button = gr.Button(\"Get Answer\")\n",
    "            answer_output = gr.Textbox(label=\"Answer\", interactive=False)\n",
    "    \n",
    "    with gr.Row():\n",
    "        gr.Markdown(\"### Feedback Section\")\n",
    "        feedback_question_input = gr.Textbox(label=\"Question\")\n",
    "        correct_answer_input = gr.Textbox(label=\"Correct Answer\")\n",
    "        user_feedback_input = gr.Textbox(label=\"Your Feedback\")\n",
    "        feedback_button = gr.Button(\"Submit Feedback\")\n",
    "        feedback_status_output = gr.Textbox(label=\"Feedback Status\", interactive=False)\n",
    "    \n",
    "    with gr.Row():\n",
    "        gr.Markdown(\"### Feedback Management\")\n",
    "        feedback_table = gr.Dataframe(label=\"Feedback Entries\")\n",
    "        update_feedback_button = gr.Button(\"Reload Feedback Table\")\n",
    "        feedback_index_input = gr.Number(label=\"Delete Feedback at Index\", precision=0)\n",
    "        delete_feedback_button = gr.Button(\"Delete Feedback\")\n",
    "        delete_feedback_status_output = gr.Textbox(label=\"Delete Status\", interactive=False)\n",
    "        retrain_button = gr.Button(\"Retrain Embeddings\")\n",
    "        retrain_status_output = gr.Textbox(label=\"Retrain Status\", interactive=False)\n",
    "    \n",
    "    # Button actions\n",
    "    process_button.click(\n",
    "        upload_and_process_pdf,\n",
    "        inputs=[pdf_input, tags_input, category_input],\n",
    "        outputs=status_output,\n",
    "    )\n",
    "    answer_button.click(\n",
    "        ask_question,\n",
    "        inputs=[question_input, filter_tags_input, filter_category_input],\n",
    "        outputs=answer_output,\n",
    "    )\n",
    "    feedback_button.click(\n",
    "        submit_feedback,\n",
    "        inputs=[feedback_question_input, correct_answer_input, user_feedback_input],\n",
    "        outputs=feedback_status_output,\n",
    "    )\n",
    "    update_feedback_button.click(view_feedback, outputs=feedback_table)\n",
    "    delete_feedback_button.click(delete_feedback, inputs=feedback_index_input, outputs=delete_feedback_status_output)\n",
    "    retrain_button.click(retrain_embeddings, outputs=retrain_status_output)\n",
    "\n",
    "qa_demo.launch()\n"
   ]
  },
  {
   "cell_type": "code",
   "execution_count": null,
   "id": "b23b55e9",
   "metadata": {},
   "outputs": [],
   "source": []
  }
 ],
 "metadata": {
  "kernelspec": {
   "display_name": "knowledge",
   "language": "python",
   "name": "python3"
  },
  "language_info": {
   "codemirror_mode": {
    "name": "ipython",
    "version": 3
   },
   "file_extension": ".py",
   "mimetype": "text/x-python",
   "name": "python",
   "nbconvert_exporter": "python",
   "pygments_lexer": "ipython3",
   "version": "3.9.21"
  }
 },
 "nbformat": 4,
 "nbformat_minor": 5
}
